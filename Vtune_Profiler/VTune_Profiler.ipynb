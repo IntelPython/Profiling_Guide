{
 "cells": [
  {
   "cell_type": "markdown",
   "id": "e1688bc9-27e3-4728-abc9-e175eebf25ea",
   "metadata": {},
   "source": [
    "# Intel® VTune™ Profiler"
   ]
  },
  {
   "cell_type": "markdown",
   "id": "d49c938a-3a5d-417a-ac6e-e73071f7b0df",
   "metadata": {
    "tags": []
   },
   "source": [
    "**Intel® VTune™ Profiler** optimizes application performance, system performance, and system configuration for HPC, cloud, IoT, media, storage, and more.\n",
    "\n",
    "- **CPU, GPU, and FPGA**: Tune the entire application’s performance―not just the accelerated portion.\n",
    "- **Multilingual**: Profile SYCL*, C, C++, C#, Fortran, OpenCL™ code, Python*, Google Go* programming language, Java*, .NET, Assembly, or any combination of languages.\n",
    "- **System or Application**: Get coarse-grained system data for an extended period or detailed results mapped to source code.\n",
    "- **Power**: Optimize performance while avoiding power- and thermal-related throttling. <br>\n",
    "\n",
    "To get started with Intel VTune visit the article **[Get Started with Intel® VTune™ Profiler](https://www.intel.com/content/www/us/en/docs/vtune-profiler/get-started-guide/2023/overview.html)** <br>\n",
    "\n",
    "To download the Intel VTune\n",
    "- **[As Part of the Toolkit](https://www.intel.com/content/www/us/en/developer/tools/oneapi/base-toolkit-download.html)**: Intel VTune Profiler is included in the Intel® oneAPI Base Toolkit, which is a core set of tools and libraries for developing high-performance, data-centric applications across diverse architectures. \n",
    "- **[Stand-Alone Version](https://www.intel.com/content/www/us/en/developer/tools/oneapi/vtune-profiler-download.html)**: A stand-alone download of Intel VTune Profiler is available. You can download binaries from Intel or choose your preferred repository. <br>\n",
    "\n",
    "To get help about usage of Intel VTune visit the article **[Intel® VTune™ Profiler User Guide](https://www.intel.com/content/www/us/en/docs/vtune-profiler/user-guide/2023-0/overview.html)**\n",
    "\n",
    "To know more about Intel Vtune visit the article **[Intel® VTune™ Profiler](https://www.intel.com/content/www/us/en/developer/tools/oneapi/vtune-profiler.html)**"
   ]
  },
  {
   "cell_type": "code",
   "execution_count": null,
   "id": "1d58ae05-4d29-4bac-8f29-2e591cfa26b8",
   "metadata": {},
   "outputs": [],
   "source": []
  }
 ],
 "metadata": {
  "kernelspec": {
   "display_name": "Python 3 (ipykernel)",
   "language": "python",
   "name": "python3"
  },
  "language_info": {
   "codemirror_mode": {
    "name": "ipython",
    "version": 3
   },
   "file_extension": ".py",
   "mimetype": "text/x-python",
   "name": "python",
   "nbconvert_exporter": "python",
   "pygments_lexer": "ipython3",
   "version": "3.7.13"
  }
 },
 "nbformat": 4,
 "nbformat_minor": 5
}
