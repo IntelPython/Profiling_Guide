{
 "cells": [
  {
   "cell_type": "markdown",
   "id": "1218fc0c-74fd-45fb-8526-9862dbc316dd",
   "metadata": {},
   "source": [
    "# Scalene Profiler"
   ]
  },
  {
   "cell_type": "markdown",
   "id": "255a77d8-c4a7-4d01-8648-a95c23d1940c",
   "metadata": {},
   "source": [
    "**Scalene** is a high-performance CPU, GPU and memory profiler for Python that does a number of things that other Python profilers do not and cannot do. It runs orders of magnitude faster than many other profilers while delivering far more detailed information. It is also the first profiler ever to incorporate **AI-powered proposed optimizations**. To enable these, you need to enter an **OpenAI key**. <br>\n",
    "Once a valid key is entered, click on the lightning bolt (⚡) beside any line or the explosion (💥) for an entire region of code to generate a proposed optimization. Click on a proposed optimization to copy it to the clipboard.\n",
    "To know more about scalene visit the **[github respsitory.](https://github.com/plasma-umass/scalene)**"
   ]
  },
  {
   "cell_type": "markdown",
   "id": "96886072-0b37-4fa4-9f4a-74dc2a5a5a3b",
   "metadata": {
    "jp-MarkdownHeadingCollapsed": true,
    "tags": []
   },
   "source": [
    "## Installation"
   ]
  },
  {
   "cell_type": "markdown",
   "id": "72929fd5-de4d-4ed4-8b99-57cf5ac51659",
   "metadata": {},
   "source": [
    "**Note:** Please use scalene **version 1.3.12** for profiling **[Intelligent-Indexing](https://github.com/oneapi-src/intelligent-indexing)** toolkit explained below. <br>\n",
    "**Using pip**\n",
    "```\n",
    "pip install scalene==1.3.12\n",
    "```\n",
    "**For general installation** \n",
    "**Using pip**\n",
    "```\n",
    "python3 -m pip install -U scalene\n",
    "```\n",
    "**Using Conda**\n",
    "```\n",
    "conda install -c conda-forge scalene\n",
    "```"
   ]
  },
  {
   "cell_type": "markdown",
   "id": "f729ed30-bfbc-4937-bdd0-68a8e3e6a7ad",
   "metadata": {
    "jp-MarkdownHeadingCollapsed": true,
    "tags": []
   },
   "source": [
    "## Using Scalene"
   ]
  },
  {
   "cell_type": "markdown",
   "id": "63180667-7d70-4379-8802-6f413d2d5686",
   "metadata": {},
   "source": [
    "**Commonly used options:**\n",
    "- Using scalene in cli \n",
    "- Using Scalene to profile only specific functions via @profile:\n",
    "\n",
    "**Web-based GUI**\n",
    "Scalene has both a CLI and a web-based GUI **[demo here.](http://plasma-umass.org/scalene-gui/)** <br>\n",
    "\n",
    "By default, once Scalene has profiled your program, it will open a tab in a web browser with an interactive user interface (all processing is done locally). Hover over bars to see breakdowns of CPU and memory consumption, and click on underlined column headers to sort the columns. The generated file profile.html is self-contained and can be saved for later use."
   ]
  },
  {
   "cell_type": "markdown",
   "id": "b8de3d7e-8472-4861-ab32-1036118eb938",
   "metadata": {
    "jp-MarkdownHeadingCollapsed": true,
    "tags": []
   },
   "source": [
    "### Example 1: Using Scalene in CLI"
   ]
  },
  {
   "cell_type": "markdown",
   "id": "5c922779-7423-47cc-80bf-d5d27263150f",
   "metadata": {},
   "source": [
    "Create a file **example1.py** with the code below and **uncomment** the code. We have created one for your reference"
   ]
  },
  {
   "cell_type": "code",
   "execution_count": 1,
   "id": "00ee04fb-74b5-4049-a285-7d75800f44f6",
   "metadata": {},
   "outputs": [],
   "source": [
    "# import time\n",
    "# import numpy as np\n",
    "\n",
    "# def very_slow_random_generator():\n",
    "#     time.sleep(5)\n",
    "#     arr1 = np.random.randint(1,100, size=(1000,1000))\n",
    "#     avg = arr1.mean()\n",
    "#     return avg\n",
    "\n",
    "\n",
    "# def slow_random_generator():\n",
    "#     time.sleep(2)\n",
    "#     arr1 = np.random.randint(1,100, size=(1000,1000))\n",
    "#     avg = arr1.mean()\n",
    "#     return avg\n",
    "\n",
    "# def main_func():\n",
    "#     avg1 = slow_random_generator()\n",
    "#     avg2 = very_slow_random_generator()\n",
    "\n",
    "#     print(\"Averages: {:.3f}, {:.3f}\".format(avg1,avg2))\n",
    "\n",
    "# if __name__ == '__main__':\n",
    "#     main_func()"
   ]
  },
  {
   "cell_type": "markdown",
   "id": "422b4d92-7034-499f-866b-84ac14cb7446",
   "metadata": {},
   "source": [
    "To know more about how to use scalene use **--help**"
   ]
  },
  {
   "cell_type": "code",
   "execution_count": 2,
   "id": "e85a9077-e37e-46f7-873d-1d8c7b5fabe7",
   "metadata": {},
   "outputs": [
    {
     "name": "stdout",
     "output_type": "stream",
     "text": [
      "usage: scalene \u001b[1m[\u001b[0m-h\u001b[1m]\u001b[0m \u001b[1m[\u001b[0m--version\u001b[1m]\u001b[0m \u001b[1m[\u001b[0m--outfile OUTFILE\u001b[1m]\u001b[0m \u001b[1m[\u001b[0m--html\u001b[1m]\u001b[0m\n",
      "               \u001b[1m[\u001b[0m--reduced-profile\u001b[1m]\u001b[0m \u001b[1m[\u001b[0m--profile-interval PROFILE_INTERVAL\u001b[1m]\u001b[0m\n",
      "               \u001b[1m[\u001b[0m--cpu-only\u001b[1m]\u001b[0m \u001b[1m[\u001b[0m--profile-all\u001b[1m]\u001b[0m \u001b[1m[\u001b[0m--profile-only PROFILE_ONLY\u001b[1m]\u001b[0m\n",
      "               \u001b[1m[\u001b[0m--use-virtual-time\u001b[1m]\u001b[0m\n",
      "               \u001b[1m[\u001b[0m--cpu-percent-threshold CPU_PERCENT_THRESHOLD\u001b[1m]\u001b[0m\n",
      "               \u001b[1m[\u001b[0m--cpu-sampling-rate CPU_SAMPLING_RATE\u001b[1m]\u001b[0m\n",
      "               \u001b[1m[\u001b[0m--malloc-threshold MALLOC_THRESHOLD\u001b[1m]\u001b[0m\n",
      "               \u001b[1m[\u001b[0m--program-path PROGRAM_PATH\u001b[1m]\u001b[0m \u001b[1m[\u001b[0m--on | --off\u001b[1m]\u001b[0m\n",
      "\n",
      "\u001b[1mScalene\u001b[0m: a high-precision CPU and memory profiler, version \u001b[1;36m1.3\u001b[0m.\u001b[1;36m12\u001b[0m\n",
      "\u001b]8;id=881886;https://github.com/plasma-umass/scalene\u001b\\\u001b[4;94mhttps://github.com/plasma-umass/scalene\u001b[0m\u001b]8;;\u001b\\\n",
      "\n",
      "command-line:\n",
      "  % \u001b[1mscalene \u001b[0m\u001b[1m[\u001b[0m\u001b[1moptions\u001b[0m\u001b[1m]\u001b[0m\u001b[1m yourprogram.py\u001b[0m\n",
      "or\n",
      "  % \u001b[1mpython3 -m scalene \u001b[0m\u001b[1m[\u001b[0m\u001b[1moptions\u001b[0m\u001b[1m]\u001b[0m\u001b[1m yourprogram.py\u001b[0m\n",
      "\n",
      "in Jupyter, line mode:\n",
      "\u001b[1m  %scrun \u001b[0m\u001b[1m[\u001b[0m\u001b[1moptions\u001b[0m\u001b[1m]\u001b[0m\u001b[1m statement\u001b[0m\n",
      "\n",
      "in Jupyter, cell mode:\n",
      "\u001b[1m  %%scalene \u001b[0m\u001b[1m[\u001b[0m\u001b[1moptions\u001b[0m\u001b[1m]\u001b[0m\n",
      "\u001b[1m   your code here\u001b[0m\n",
      "\n",
      "\n",
      "optional arguments:\n",
      "  -h, --help            show this help message and exit\n",
      "  --version             prints the version number for this release of Scalene \n",
      "and exits\n",
      "  --outfile OUTFILE     file to hold profiler output \u001b[1m(\u001b[0mdefault: \u001b[34mstdout\u001b[0m\u001b[1m)\u001b[0m\n",
      "  --html                output as HTML \u001b[1m(\u001b[0mdefault: \u001b[34mtext\u001b[0m\u001b[1m)\u001b[0m\n",
      "  --reduced-profile     generate a reduced profile, with non-zero lines only \n",
      "\u001b[1m(\u001b[0mdefault: \u001b[3;34mFalse\u001b[0m\u001b[1m)\u001b[0m\n",
      "  --profile-interval PROFILE_INTERVAL\n",
      "                        output profiles every so many seconds \u001b[1m(\u001b[0mdefault: \u001b[34minf\u001b[0m\u001b[1m)\u001b[0m\n",
      "  --cpu-only            only profile CPU+GPU time \u001b[1m(\u001b[0mdefault: \u001b[34mprofile CPU+GPU, \u001b[0m\n",
      "\u001b[34mmemory, and copying\u001b[0m\u001b[1m)\u001b[0m\n",
      "  --profile-all         profile all executed code, not just the target program \n",
      "\u001b[1m(\u001b[0mdefault: \u001b[34monly the target program\u001b[0m\u001b[1m)\u001b[0m\n",
      "  --profile-only PROFILE_ONLY\n",
      "                        profile only code in files matching the given strings, \n",
      "separated by commas \u001b[1m(\u001b[0mdefault: \u001b[34mno restrictions\u001b[0m\u001b[1m)\u001b[0m\n",
      "  --use-virtual-time    measure only CPU time, not time spent in I/O or blocking\n",
      "\u001b[1m(\u001b[0mdefault: \u001b[3;34mFalse\u001b[0m\u001b[1m)\u001b[0m\n",
      "  --cpu-percent-threshold CPU_PERCENT_THRESHOLD\n",
      "                        only report profiles with at least this percent of CPU \n",
      "time \u001b[1m(\u001b[0mdefault: \u001b[1;34m1\u001b[0m\u001b[34m%\u001b[0m\u001b[1m)\u001b[0m\n",
      "  --cpu-sampling-rate CPU_SAMPLING_RATE\n",
      "                        CPU sampling rate \u001b[1m(\u001b[0mdefault: every \u001b[1;34m0.\u001b[0m\u001b[34m01s\u001b[0m\u001b[1m)\u001b[0m\n",
      "  --malloc-threshold MALLOC_THRESHOLD\n",
      "                        only report profiles with at least this many allocations\n",
      "\u001b[1m(\u001b[0mdefault: \u001b[1;34m100\u001b[0m\u001b[1m)\u001b[0m\n",
      "  --program-path PROGRAM_PATH\n",
      "                        The directory containing the code to profile \u001b[1m(\u001b[0mdefault: \n",
      "\u001b[34mthe path to the profiled program\u001b[0m\u001b[1m)\u001b[0m\n",
      "  --on                  start with profiling on \u001b[1m(\u001b[0mdefault\u001b[1m)\u001b[0m\n",
      "  --off                 start with profiling off\n",
      "\n",
      "When running Scalene in the background, you can suspend/resume profiling\n",
      "for the process ID that Scalene reports. For example:\n",
      "\n",
      "   % python3 -m scalene  yourprogram.py &\n",
      " Scalene now profiling process \u001b[1;36m12345\u001b[0m\n",
      "   to suspend profiling: python3 -m scalene.profile --off --pid \u001b[1;36m12345\u001b[0m\n",
      "   to resume profiling:  python3 -m scalene.profile --on  --pid \u001b[1;36m12345\u001b[0m\n",
      "\n"
     ]
    }
   ],
   "source": [
    "!scalene --help"
   ]
  },
  {
   "cell_type": "code",
   "execution_count": 3,
   "id": "4fb72932-7d79-4342-a441-2be4112841d5",
   "metadata": {},
   "outputs": [
    {
     "name": "stdout",
     "output_type": "stream",
     "text": [
      "Averages: 50.038, 49.994\n"
     ]
    }
   ],
   "source": [
    "!scalene --html --outfile example1_output.html example1.py"
   ]
  },
  {
   "cell_type": "markdown",
   "id": "2dace7b6-b344-4396-a362-8cc3ceb49c3d",
   "metadata": {
    "jp-MarkdownHeadingCollapsed": true,
    "tags": []
   },
   "source": [
    "#### Scalene Results Interpretation "
   ]
  },
  {
   "cell_type": "markdown",
   "id": "9c2e7d3f-5eb0-48e7-92f1-fdd51d18caf7",
   "metadata": {},
   "source": [
    "While in the jupyter notebook click the example_output.html file. It will open a new tab. Result has following columns\n",
    "\n",
    "- **Memory usage:** At the top, visualized by \"sparklines\", memory consumption over the runtime of the profiled code. <br>\n",
    "- **Time Python:** How much time was spent in Python code.\n",
    "- **native:** How much time was spent in non-Python code (e.g., libraries written in C/C++).\n",
    "- **system:** How much time was spent in the system (e.g., I/O).\n",
    "- **GPU:** (not shown here) How much time spent on the GPU, if your system has an NVIDIA GPU installed.\n",
    "- **Memory Python:** How much of the memory allocation happened on the Python side of the code, as opposed to in non-Python code (e.g., libraries written in C/C++).\n",
    "- **net:** Positive net memory numbers indicate total memory allocation in megabytes; negative net memory numbers indicate memory reclamation.\n",
    "- **timeline / %:** Visualized by \"sparklines\", memory consumption generated by this line over the program runtime, and the percentages of total memory activity this line represents.\n",
    "- **Copy (MB/s):** The amount of megabytes being copied per second (see \"About Scalene\")."
   ]
  },
  {
   "cell_type": "markdown",
   "id": "3ff1fc58-58db-4e5e-b129-4870ab0f862f",
   "metadata": {
    "jp-MarkdownHeadingCollapsed": true,
    "tags": []
   },
   "source": [
    "### Example 2: Using Scalene to profile specific functions in Code"
   ]
  },
  {
   "cell_type": "markdown",
   "id": "2a111d77-a0f4-4080-a855-4a2247b8e3f4",
   "metadata": {},
   "source": [
    "Create a file **example2.py** with the code below and **uncomment** the code. We have created one for your reference"
   ]
  },
  {
   "cell_type": "code",
   "execution_count": 4,
   "id": "fbb04454-d277-4b93-95ce-3c5614cf5375",
   "metadata": {},
   "outputs": [],
   "source": [
    "# import time\n",
    "# import numpy as np\n",
    "\n",
    "\n",
    "# @profile\n",
    "# def very_slow_random_generator():\n",
    "#     time.sleep(5)\n",
    "#     arr1 = np.random.randint(1,100, size=(1000,1000))\n",
    "#     avg = arr1.mean()\n",
    "#     return avg\n",
    "\n",
    "# @profile\n",
    "# def slow_random_generator():\n",
    "#     time.sleep(2)\n",
    "#     arr1 = np.random.randint(1,100, size=(1000,1000))\n",
    "#     avg = arr1.mean()\n",
    "#     return avg\n",
    "\n",
    "# def main_func():\n",
    "#     avg1 = slow_random_generator()\n",
    "#     avg2 = very_slow_random_generator()\n",
    "#     print(\"Averages: {:.3f}, {:.3f}\".format(avg1,avg2))\n",
    "\n",
    "# if __name__ == '__main__':\n",
    "#     main_func()"
   ]
  },
  {
   "cell_type": "code",
   "execution_count": 5,
   "id": "99ed75d3-8964-4857-9e94-ed49bf889a0d",
   "metadata": {},
   "outputs": [
    {
     "name": "stdout",
     "output_type": "stream",
     "text": [
      "Averages: 49.987, 50.019\n"
     ]
    }
   ],
   "source": [
    "!scalene --html --outfile example2_output.html example2.py"
   ]
  },
  {
   "cell_type": "markdown",
   "id": "0709a170-5655-44a7-902a-431ad2637bbc",
   "metadata": {
    "jp-MarkdownHeadingCollapsed": true,
    "tags": []
   },
   "source": [
    "### Example 3: to use **Scalene** for **intelligent_indexing** ref kit "
   ]
  },
  {
   "cell_type": "markdown",
   "id": "3b96f2a9-15f6-4d9b-9f45-ac68690a2a97",
   "metadata": {},
   "source": [
    "The **[Intelligent Indexing](https://github.com/oneapi-src/intelligent-indexing)** ref kit demonstrates one way of building an NLP pipeline for classifying documents to their respective topics and describe how we can leverage the **Intel® AI Analytics Toolkit (AI Kit)** to accelerate the pipeline.\n",
    "\n",
    "**Intel® AI Analytics Toolkit (AI Kit)** is used to achieve quick results even when the data for a model are huge. It provides the capability to reuse the code present in different languages so that the hardware utilization is optimized to provide these results."
   ]
  },
  {
   "cell_type": "markdown",
   "id": "7b69f9be-fcba-43df-baea-19557571a996",
   "metadata": {},
   "source": [
    "The **Intelligent Indexing** ref kit has different Intel® oneAPI optimizations enabled like:\n",
    "- **[Intel® Distribution of Modin*](https://www.intel.com/content/www/us/en/developer/tools/oneapi/distribution-of-modin.html#gs.v03x2l)**\n",
    "The Intel® Distribution of Modin* is a performant, parallel, and distributed dataframe system that is designed around enabling data scientists to be more productive. It provides drop-in acceleration to your existing **pandas** workflows. No upfront cost to learning a new API. Integrates with the Python* ecosystem. Seamlessly scales across multicores with Ray* and Dask* clusters (run on and with what you have)\n",
    "- **[Intel® Extension for Scikit-learn*](https://www.intel.com/content/www/us/en/developer/tools/oneapi/scikit-learn.html)**\n",
    "Designed for data scientists, Intel® Extension for Scikit-Learn* is a seamless way to speed up your Scikit-learn applications for machine learning to solve real-world problems. This extension package dynamically patches scikit-learn estimators to use Intel® oneAPI Data Analytics Library (oneDAL) as the underlying solver, while achieving the speed up for your machine learning algorithms out-of-box."
   ]
  },
  {
   "cell_type": "markdown",
   "id": "ab5495d6-068d-455f-a37a-1d6ca668ce75",
   "metadata": {},
   "source": [
    "**NOTE** Please visit the **[Intelligent Indexing](https://github.com/oneapi-src/intelligent-indexing)** Ref kit page to know more about the kit.\n",
    "- Please follow the steps in github repo to clone and create the environment.\n",
    "- After creating environment install **scalene** in both the environments **doc_class_stock** and **doc_class_intel** using\n",
    "```\n",
    "pip install scalene==1.3.12\n",
    "```\n",
    "We will be using **scalene** to profile this workload below."
   ]
  },
  {
   "cell_type": "markdown",
   "id": "b0e599e7-3a17-4266-b07c-b196ccd7d909",
   "metadata": {
    "jp-MarkdownHeadingCollapsed": true,
    "tags": []
   },
   "source": [
    "#### Profile Intelligent Indexing Ref Kit with Stock packages"
   ]
  },
  {
   "cell_type": "markdown",
   "id": "dbf9c70a-78c1-4b93-8979-91ea10fa8b0a",
   "metadata": {},
   "source": [
    "To ignore warnings run the below cell and if the result directories are not present uncomment the below code"
   ]
  },
  {
   "cell_type": "code",
   "execution_count": null,
   "id": "4ebc0598-089f-4030-a4d1-4bcb22b6192f",
   "metadata": {},
   "outputs": [],
   "source": [
    "import warnings\n",
    "warnings.filterwarnings('ignore')\n",
    "# mkdir -p Scalene_Profiler_Results  # create `Scalene_Profiler_Results` dir in the parent dir if not present\n",
    "# mkdir -p Scalene_Profiler_Results/stock_results  # create `stock_results` dir in the Scalene_Profiler_Results if not present\n",
    "# mkdir -p Scalene_Profiler_Results/oneapi_optimized_results  # create `oneapi_optimized_results` dir in the Scalene_Profiler_Results if not present"
   ]
  },
  {
   "cell_type": "markdown",
   "id": "de1cf849-95fc-4df3-93b5-a7a183f1b2ee",
   "metadata": {},
   "source": [
    "To run the profiler on the intelligent indexing ref kit <br>\n",
    "- Navigate to directory **intelligent-indexing/src/** in terminal\n",
    "- ```conda activate doc_class_stock```\n",
    "- execute the below commands"
   ]
  },
  {
   "cell_type": "code",
   "execution_count": 9,
   "id": "e932fcbb-683e-450d-a277-b6006e148ca6",
   "metadata": {},
   "outputs": [
    {
     "name": "stdout",
     "output_type": "stream",
     "text": [
      "[nltk_data] Downloading package punkt to /ws2/yfulwani/nltk_data...\n",
      "[nltk_data]   Package punkt is already up-to-date!\n",
      "[nltk_data] Downloading package stopwords to\n",
      "[nltk_data]     /ws2/yfulwani/nltk_data...\n",
      "[nltk_data]   Package stopwords is already up-to-date!\n"
     ]
    }
   ],
   "source": [
    "# scalene --html --outfile ../../Profiling_Guide/Scalene_Profiler/Scalene_Profiler_Results/stock_results/scalene_stock.html  run_benchmarks.py -l ../logs/stock_stock.log"
   ]
  },
  {
   "cell_type": "markdown",
   "id": "ec0daed0-1aad-4e7f-87e7-656680e373cb",
   "metadata": {},
   "source": [
    "**To visualize the results** <br>\n",
    "- Go to the respective result directory and open the html file"
   ]
  },
  {
   "cell_type": "markdown",
   "id": "825e67e3-bb47-4bd0-887d-8400f98f92b0",
   "metadata": {
    "jp-MarkdownHeadingCollapsed": true,
    "tags": []
   },
   "source": [
    "#### Profile Intelligent Indexing Ref Kit with Intel oneAPI optimized packages"
   ]
  },
  {
   "cell_type": "markdown",
   "id": "97075250-6b72-414b-b729-4abcf8a574f5",
   "metadata": {},
   "source": [
    "To run the profiler on the intelligent indexing ref kit <br>\n",
    "- Navigate to directory **intelligent-indexing/src/** in terminal\n",
    "- ```conda activate doc_class_intel```\n",
    "- execute the below commands"
   ]
  },
  {
   "cell_type": "code",
   "execution_count": 2,
   "id": "48271545-543b-4e66-b54e-a94af1c45a2c",
   "metadata": {},
   "outputs": [
    {
     "name": "stdout",
     "output_type": "stream",
     "text": [
      "[nltk_data] Downloading package punkt to /ws2/yfulwani/nltk_data...\n",
      "[nltk_data]   Package punkt is already up-to-date!\n",
      "[nltk_data] Downloading package stopwords to\n",
      "[nltk_data]     /ws2/yfulwani/nltk_data...\n",
      "[nltk_data]   Package stopwords is already up-to-date!\n",
      "\u001b[0m"
     ]
    }
   ],
   "source": [
    "# scalene --html --outfile ../../Profiling_Guide/Scalene_Profiler/Scalene_Profiler_Results/oneapi_optimized_results/scalene_intel.html run_benchmarks.py -i -l ../logs/intel_intel.log "
   ]
  },
  {
   "cell_type": "markdown",
   "id": "9998212a-f857-43a6-9f20-34442b0112fb",
   "metadata": {},
   "source": [
    "**To visualize the results** <br>\n",
    "- Go to the respective result directory and open the html file"
   ]
  }
 ],
 "metadata": {
  "kernelspec": {
   "display_name": "Python 3 (ipykernel)",
   "language": "python",
   "name": "python3"
  },
  "language_info": {
   "codemirror_mode": {
    "name": "ipython",
    "version": 3
   },
   "file_extension": ".py",
   "mimetype": "text/x-python",
   "name": "python",
   "nbconvert_exporter": "python",
   "pygments_lexer": "ipython3",
   "version": "3.7.13"
  }
 },
 "nbformat": 4,
 "nbformat_minor": 5
}
